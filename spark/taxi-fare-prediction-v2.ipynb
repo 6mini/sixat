{
 "cells": [
  {
   "cell_type": "code",
   "execution_count": 1,
   "id": "6c89f375",
   "metadata": {},
   "outputs": [],
   "source": [
    "from pyspark.sql import SparkSession"
   ]
  },
  {
   "cell_type": "code",
   "execution_count": 2,
   "id": "14ef5549",
   "metadata": {},
   "outputs": [
    {
     "name": "stderr",
     "output_type": "stream",
     "text": [
      "21/12/20 04:41:46 WARN Utils: Your hostname, 6miniui-MacBook-Pro.local resolves to a loopback address: 127.0.0.1; using 192.168.200.112 instead (on interface en0)\n",
      "21/12/20 04:41:46 WARN Utils: Set SPARK_LOCAL_IP if you need to bind to another address\n",
      "Using Spark's default log4j profile: org/apache/spark/log4j-defaults.properties\n",
      "Setting default log level to \"WARN\".\n",
      "To adjust logging level use sc.setLogLevel(newLevel). For SparkR, use setLogLevel(newLevel).\n",
      "21/12/20 04:41:47 WARN NativeCodeLoader: Unable to load native-hadoop library for your platform... using builtin-java classes where applicable\n"
     ]
    }
   ],
   "source": [
    "MAX_MEMORY=\"5g\"\n",
    "spark = SparkSession.builder.appName(\"taxi-fare-prediciton\")\\\n",
    "                .config(\"spark.executor.memory\", MAX_MEMORY)\\\n",
    "                .config(\"spark.driver.memory\", MAX_MEMORY)\\\n",
    "                .getOrCreate()"
   ]
  },
  {
   "cell_type": "code",
   "execution_count": 3,
   "id": "2e0760d9",
   "metadata": {},
   "outputs": [
    {
     "name": "stderr",
     "output_type": "stream",
     "text": [
      "                                                                                \r"
     ]
    }
   ],
   "source": [
    "trips_df = spark.read.csv(\"/Users/6mini/trip/*\", inferSchema=True, header=True)"
   ]
  },
  {
   "cell_type": "code",
   "execution_count": 4,
   "id": "2e1392e4",
   "metadata": {},
   "outputs": [
    {
     "name": "stdout",
     "output_type": "stream",
     "text": [
      "root\n",
      " |-- VendorID: integer (nullable = true)\n",
      " |-- tpep_pickup_datetime: string (nullable = true)\n",
      " |-- tpep_dropoff_datetime: string (nullable = true)\n",
      " |-- passenger_count: integer (nullable = true)\n",
      " |-- trip_distance: double (nullable = true)\n",
      " |-- RatecodeID: integer (nullable = true)\n",
      " |-- store_and_fwd_flag: string (nullable = true)\n",
      " |-- PULocationID: integer (nullable = true)\n",
      " |-- DOLocationID: integer (nullable = true)\n",
      " |-- payment_type: integer (nullable = true)\n",
      " |-- fare_amount: double (nullable = true)\n",
      " |-- extra: double (nullable = true)\n",
      " |-- mta_tax: double (nullable = true)\n",
      " |-- tip_amount: double (nullable = true)\n",
      " |-- tolls_amount: double (nullable = true)\n",
      " |-- improvement_surcharge: double (nullable = true)\n",
      " |-- total_amount: double (nullable = true)\n",
      " |-- congestion_surcharge: double (nullable = true)\n",
      "\n"
     ]
    }
   ],
   "source": [
    "trips_df.printSchema()"
   ]
  },
  {
   "cell_type": "code",
   "execution_count": 5,
   "id": "005be675",
   "metadata": {},
   "outputs": [],
   "source": [
    "trips_df.createOrReplaceTempView(\"trips\")"
   ]
  },
  {
   "cell_type": "code",
   "execution_count": 6,
   "id": "523bb34a",
   "metadata": {},
   "outputs": [],
   "source": [
    "# 팩터를 몇가지 더 추가한다.\n",
    "query = \"\"\"\n",
    "SELECT \n",
    "    passenger_count,\n",
    "    PULocationID as pickup_location_id,\n",
    "    DOLocationID as dropoff_location_id,\n",
    "    trip_distance,\n",
    "    HOUR(tpep_pickup_datetime) as pickup_time,\n",
    "    DATE_FORMAT(TO_DATE(tpep_pickup_datetime), 'EEEE') AS day_of_week,\n",
    "    total_amount\n",
    "FROM\n",
    "    trips\n",
    "WHERE\n",
    "    total_amount < 5000\n",
    "    AND total_amount > 0\n",
    "    AND trip_distance > 0\n",
    "    AND trip_distance < 500\n",
    "    AND passenger_count < 5\n",
    "    AND TO_DATE(tpep_pickup_datetime) >= '2021-01-01'\n",
    "    AND TO_DATE(tpep_pickup_datetime) < '2021-08-01'\n",
    "\"\"\"\n",
    "data_df = spark.sql(query)\n",
    "data_df.createOrReplaceTempView(\"data\")"
   ]
  },
  {
   "cell_type": "code",
   "execution_count": 7,
   "id": "c099756d",
   "metadata": {},
   "outputs": [
    {
     "name": "stdout",
     "output_type": "stream",
     "text": [
      "+---------------+------------------+-------------------+-------------+-----------+-----------+------------+\n",
      "|passenger_count|pickup_location_id|dropoff_location_id|trip_distance|pickup_time|day_of_week|total_amount|\n",
      "+---------------+------------------+-------------------+-------------+-----------+-----------+------------+\n",
      "|              1|               142|                 43|          2.1|          0|     Friday|        11.8|\n",
      "|              1|               238|                151|          0.2|          0|     Friday|         4.3|\n",
      "|              1|               132|                165|         14.7|          0|     Friday|       51.95|\n",
      "|              0|               138|                132|         10.6|          0|     Friday|       36.35|\n",
      "|              1|                68|                 33|         4.94|          0|     Friday|       24.36|\n",
      "|              1|               224|                 68|          1.6|          0|     Friday|       14.15|\n",
      "|              1|                95|                157|          4.1|          0|     Friday|        17.3|\n",
      "|              1|                90|                 40|          5.7|          0|     Friday|        21.8|\n",
      "|              1|                97|                129|          9.1|          0|     Friday|        28.8|\n",
      "|              2|               263|                142|          2.7|          0|     Friday|       18.95|\n",
      "|              3|               164|                255|         6.11|          0|     Friday|        24.3|\n",
      "|              2|               255|                 80|         1.21|          0|     Friday|       10.79|\n",
      "|              2|               138|                166|          7.4|          0|     Friday|       33.92|\n",
      "|              1|               236|                237|         1.01|          0|     Friday|        10.3|\n",
      "|              1|               142|                239|         0.73|          0|     Friday|       12.09|\n",
      "|              1|               238|                166|         1.17|          0|     Friday|       12.36|\n",
      "|              1|               239|                238|         0.78|          0|     Friday|        9.96|\n",
      "|              2|               151|                142|         1.66|          0|     Friday|        12.3|\n",
      "|              3|               239|                142|         0.93|          0|     Friday|         9.3|\n",
      "|              2|               238|                142|         1.16|          0|     Friday|       11.84|\n",
      "+---------------+------------------+-------------------+-------------+-----------+-----------+------------+\n",
      "only showing top 20 rows\n",
      "\n"
     ]
    }
   ],
   "source": [
    "data_df.show()"
   ]
  },
  {
   "cell_type": "code",
   "execution_count": 8,
   "id": "2df30f50",
   "metadata": {},
   "outputs": [
    {
     "name": "stdout",
     "output_type": "stream",
     "text": [
      "root\n",
      " |-- passenger_count: integer (nullable = true)\n",
      " |-- pickup_location_id: integer (nullable = true)\n",
      " |-- dropoff_location_id: integer (nullable = true)\n",
      " |-- trip_distance: double (nullable = true)\n",
      " |-- pickup_time: integer (nullable = true)\n",
      " |-- day_of_week: string (nullable = true)\n",
      " |-- total_amount: double (nullable = true)\n",
      "\n"
     ]
    }
   ],
   "source": [
    "data_df.printSchema()"
   ]
  },
  {
   "cell_type": "code",
   "execution_count": 9,
   "id": "b604f847",
   "metadata": {},
   "outputs": [],
   "source": [
    "train_df, test_df = data_df.randomSplit([0.8, 0.2], seed=6)"
   ]
  },
  {
   "cell_type": "code",
   "execution_count": 10,
   "id": "1a308b57",
   "metadata": {},
   "outputs": [],
   "source": [
    "# 나뉘어진 데이터 프레임을 저장해둔다.\n",
    "data_dir = \"/Users/6mini/spark/taxi\""
   ]
  },
  {
   "cell_type": "code",
   "execution_count": 11,
   "id": "c6fa0168",
   "metadata": {},
   "outputs": [
    {
     "name": "stderr",
     "output_type": "stream",
     "text": [
      "                                                                                \r"
     ]
    }
   ],
   "source": [
    "# 파퀫 형태로 저장\n",
    "# 압축률이 좋고 디스크 io가 적다\n",
    "# 컬럼 기반 포맷이다.\n",
    "train_df.write.format(\"parquet\").save(f\"{data_dir}/train/\")\n",
    "test_df.write.format(\"parquet\").save(f\"{data_dir}/test/\")"
   ]
  },
  {
   "cell_type": "code",
   "execution_count": 12,
   "id": "193f3160",
   "metadata": {},
   "outputs": [],
   "source": [
    "# 파퀫 형태로 불러오기\n",
    "train_df = spark.read.parquet(f\"{data_dir}/train/\")\n",
    "test_df = spark.read.parquet(f\"{data_dir}/test/\")"
   ]
  },
  {
   "cell_type": "code",
   "execution_count": 13,
   "id": "7b1499b7",
   "metadata": {},
   "outputs": [
    {
     "name": "stdout",
     "output_type": "stream",
     "text": [
      "root\n",
      " |-- passenger_count: integer (nullable = true)\n",
      " |-- pickup_location_id: integer (nullable = true)\n",
      " |-- dropoff_location_id: integer (nullable = true)\n",
      " |-- trip_distance: double (nullable = true)\n",
      " |-- pickup_time: integer (nullable = true)\n",
      " |-- day_of_week: string (nullable = true)\n",
      " |-- total_amount: double (nullable = true)\n",
      "\n"
     ]
    }
   ],
   "source": [
    "train_df.printSchema()"
   ]
  },
  {
   "cell_type": "code",
   "execution_count": 14,
   "id": "b197ea72",
   "metadata": {},
   "outputs": [
    {
     "data": {
      "text/plain": [
       "[StringIndexer_ff1b1c4b32df,\n",
       " OneHotEncoder_4ea9b3272ed6,\n",
       " StringIndexer_65b49d3966df,\n",
       " OneHotEncoder_2e03a29c5802,\n",
       " StringIndexer_b6267b01a6ed,\n",
       " OneHotEncoder_5de1f0401482]"
      ]
     },
     "execution_count": 14,
     "metadata": {},
     "output_type": "execute_result"
    }
   ],
   "source": [
    "# 스트링 값을 숫자값으로 바꾸어 원핫인코딩을 진행한다.\n",
    "from pyspark.ml.feature import OneHotEncoder, StringIndexer\n",
    "\n",
    "# 카테고리 피쳐 설정\n",
    "cat_feats = [\n",
    "    \"pickup_location_id\",\n",
    "    \"dropoff_location_id\",\n",
    "    \"day_of_week\"\n",
    "]\n",
    "\n",
    "# 스테이지를 담는 배열\n",
    "stages = []\n",
    "\n",
    "\n",
    "for c in cat_feats:\n",
    "    cat_indexer = StringIndexer(inputCol=c, outputCol= c + \"_idx\").setHandleInvalid(\"keep\")\n",
    "    onehot_encoder = OneHotEncoder(inputCols=[cat_indexer.getOutputCol()], outputCols=[c + \"_onehot\"])\n",
    "    stages += [cat_indexer, onehot_encoder]\n",
    "\n",
    "stages"
   ]
  },
  {
   "cell_type": "code",
   "execution_count": 15,
   "id": "b3d1a552",
   "metadata": {},
   "outputs": [
    {
     "data": {
      "text/plain": [
       "[StringIndexer_ff1b1c4b32df,\n",
       " OneHotEncoder_4ea9b3272ed6,\n",
       " StringIndexer_65b49d3966df,\n",
       " OneHotEncoder_2e03a29c5802,\n",
       " StringIndexer_b6267b01a6ed,\n",
       " OneHotEncoder_5de1f0401482,\n",
       " VectorAssembler_a56b59cc4ac2,\n",
       " StandardScaler_898a128ab6df,\n",
       " VectorAssembler_ab4e638f04bc,\n",
       " StandardScaler_73b16bd04318,\n",
       " VectorAssembler_7063855370da,\n",
       " StandardScaler_c4e3960fc997]"
      ]
     },
     "execution_count": 15,
     "metadata": {},
     "output_type": "execute_result"
    }
   ],
   "source": [
    "# 숫자형 전처리: 벡터 어셈블러, 스탠다드 스칼라\n",
    "from pyspark.ml.feature import VectorAssembler, StandardScaler\n",
    "\n",
    "num_feats = [\n",
    "    \"passenger_count\",\n",
    "    \"trip_distance\",\n",
    "    \"pickup_time\"\n",
    "]\n",
    "\n",
    "for n in num_feats:\n",
    "    num_assembler = VectorAssembler(inputCols=[n], outputCol= n + \"_vecotr\")\n",
    "    num_scaler = StandardScaler(inputCol=num_assembler.getOutputCol(), outputCol= n + \"_scaled\")\n",
    "    stages += [num_assembler, num_scaler]\n",
    "\n",
    "stages"
   ]
  },
  {
   "cell_type": "code",
   "execution_count": 16,
   "id": "6c9e35cd",
   "metadata": {},
   "outputs": [
    {
     "data": {
      "text/plain": [
       "[StringIndexer_ff1b1c4b32df,\n",
       " OneHotEncoder_4ea9b3272ed6,\n",
       " StringIndexer_65b49d3966df,\n",
       " OneHotEncoder_2e03a29c5802,\n",
       " StringIndexer_b6267b01a6ed,\n",
       " OneHotEncoder_5de1f0401482,\n",
       " VectorAssembler_a56b59cc4ac2,\n",
       " StandardScaler_898a128ab6df,\n",
       " VectorAssembler_ab4e638f04bc,\n",
       " StandardScaler_73b16bd04318,\n",
       " VectorAssembler_7063855370da,\n",
       " StandardScaler_c4e3960fc997,\n",
       " VectorAssembler_37481243c479]"
      ]
     },
     "execution_count": 16,
     "metadata": {},
     "output_type": "execute_result"
    }
   ],
   "source": [
    "# 두가지를 프리프로세싱을 했는데 합치는 과정을 진행한다.\n",
    "# 벡터 어셈블러를 이용하여 가능하다.\n",
    "assembler_inputs = [c + \"_onehot\" for c in cat_feats] + [n + \"_scaled\" for n in num_feats]\n",
    "assembler = VectorAssembler(inputCols=assembler_inputs, outputCol=\"feature_vector\")\n",
    "stages += [assembler]\n",
    "\n",
    "stages"
   ]
  },
  {
   "cell_type": "code",
   "execution_count": 17,
   "id": "39b44e01",
   "metadata": {},
   "outputs": [
    {
     "name": "stderr",
     "output_type": "stream",
     "text": [
      "                                                                                \r"
     ]
    }
   ],
   "source": [
    "# 스테이지로 파이프 라인 생성\n",
    "from pyspark.ml import Pipeline\n",
    "\n",
    "transform_stages = stages\n",
    "pipeline = Pipeline(stages=transform_stages)\n",
    "fitted_transformer = pipeline.fit(train_df)"
   ]
  },
  {
   "cell_type": "code",
   "execution_count": 18,
   "id": "5d965a6d",
   "metadata": {},
   "outputs": [],
   "source": [
    "vtrain_df = fitted_transformer.transform(train_df)"
   ]
  },
  {
   "cell_type": "code",
   "execution_count": 19,
   "id": "450a8e37",
   "metadata": {},
   "outputs": [],
   "source": [
    "from pyspark.ml.regression import LinearRegression\n",
    "\n",
    "lr = LinearRegression(\n",
    "    maxIter=50,\n",
    "    solver=\"normal\",\n",
    "    labelCol=\"total_amount\",\n",
    "    featuresCol=\"feature_vector\"\n",
    ")"
   ]
  },
  {
   "cell_type": "code",
   "execution_count": 20,
   "id": "4265a9b3",
   "metadata": {},
   "outputs": [
    {
     "name": "stdout",
     "output_type": "stream",
     "text": [
      "root\n",
      " |-- passenger_count: integer (nullable = true)\n",
      " |-- pickup_location_id: integer (nullable = true)\n",
      " |-- dropoff_location_id: integer (nullable = true)\n",
      " |-- trip_distance: double (nullable = true)\n",
      " |-- pickup_time: integer (nullable = true)\n",
      " |-- day_of_week: string (nullable = true)\n",
      " |-- total_amount: double (nullable = true)\n",
      " |-- pickup_location_id_idx: double (nullable = false)\n",
      " |-- pickup_location_id_onehot: vector (nullable = true)\n",
      " |-- dropoff_location_id_idx: double (nullable = false)\n",
      " |-- dropoff_location_id_onehot: vector (nullable = true)\n",
      " |-- day_of_week_idx: double (nullable = false)\n",
      " |-- day_of_week_onehot: vector (nullable = true)\n",
      " |-- passenger_count_vecotr: vector (nullable = true)\n",
      " |-- passenger_count_scaled: vector (nullable = true)\n",
      " |-- trip_distance_vecotr: vector (nullable = true)\n",
      " |-- trip_distance_scaled: vector (nullable = true)\n",
      " |-- pickup_time_vecotr: vector (nullable = true)\n",
      " |-- pickup_time_scaled: vector (nullable = true)\n",
      " |-- feature_vector: vector (nullable = true)\n",
      "\n"
     ]
    }
   ],
   "source": [
    "vtrain_df.printSchema()"
   ]
  },
  {
   "cell_type": "code",
   "execution_count": 21,
   "id": "f2d00f60",
   "metadata": {},
   "outputs": [
    {
     "name": "stderr",
     "output_type": "stream",
     "text": [
      "21/12/20 04:42:34 WARN Instrumentation: [f1853e0d] regParam is zero, which might cause numerical instability and overfitting.\n",
      "21/12/20 04:42:37 WARN InstanceBuilder$NativeBLAS: Failed to load implementation from:dev.ludovic.netlib.blas.JNIBLAS\n",
      "21/12/20 04:42:37 WARN InstanceBuilder$NativeBLAS: Failed to load implementation from:dev.ludovic.netlib.blas.ForeignLinkerBLAS\n",
      "21/12/20 04:42:38 WARN InstanceBuilder$NativeLAPACK: Failed to load implementation from:dev.ludovic.netlib.lapack.JNILAPACK\n",
      "21/12/20 04:42:38 WARN Instrumentation: [f1853e0d] Cholesky solver failed due to singular covariance matrix. Retrying with Quasi-Newton solver.\n",
      "21/12/20 04:42:39 WARN BLAS: Failed to load implementation from: com.github.fommil.netlib.NativeSystemBLAS\n",
      "21/12/20 04:42:39 WARN BLAS: Failed to load implementation from: com.github.fommil.netlib.NativeRefBLAS\n",
      "                                                                                \r"
     ]
    }
   ],
   "source": [
    "model = lr.fit(vtrain_df)"
   ]
  },
  {
   "cell_type": "code",
   "execution_count": 22,
   "id": "9a95e8c3",
   "metadata": {},
   "outputs": [],
   "source": [
    "vtest_df = fitted_transformer.transform(test_df)"
   ]
  },
  {
   "cell_type": "code",
   "execution_count": 23,
   "id": "05b3df31",
   "metadata": {},
   "outputs": [],
   "source": [
    "predictions = model.transform(vtest_df)"
   ]
  },
  {
   "cell_type": "code",
   "execution_count": 24,
   "id": "61d0d5df",
   "metadata": {},
   "outputs": [
    {
     "data": {
      "text/plain": [
       "DataFrame[passenger_count: int, pickup_location_id: int, dropoff_location_id: int, trip_distance: double, pickup_time: int, day_of_week: string, total_amount: double, pickup_location_id_idx: double, pickup_location_id_onehot: vector, dropoff_location_id_idx: double, dropoff_location_id_onehot: vector, day_of_week_idx: double, day_of_week_onehot: vector, passenger_count_vecotr: vector, passenger_count_scaled: vector, trip_distance_vecotr: vector, trip_distance_scaled: vector, pickup_time_vecotr: vector, pickup_time_scaled: vector, feature_vector: vector, prediction: double]"
      ]
     },
     "execution_count": 24,
     "metadata": {},
     "output_type": "execute_result"
    }
   ],
   "source": [
    "# 캐싱을하여 나중에 쓰기 쉽게 만든다.\n",
    "predictions.cache()"
   ]
  },
  {
   "cell_type": "code",
   "execution_count": 25,
   "id": "2a7f4514",
   "metadata": {},
   "outputs": [
    {
     "name": "stderr",
     "output_type": "stream",
     "text": [
      "[Stage 29:>                                                         (0 + 1) / 1]\r"
     ]
    },
    {
     "name": "stdout",
     "output_type": "stream",
     "text": [
      "+-------------+-----------+------------+------------------+\n",
      "|trip_distance|day_of_week|total_amount|        prediction|\n",
      "+-------------+-----------+------------+------------------+\n",
      "|         0.01|     Sunday|       22.25|  12.3875521857505|\n",
      "|          0.1|     Sunday|         3.3|10.744178027113051|\n",
      "|          6.1|     Monday|        26.3|28.652704157860498|\n",
      "|          7.1|     Monday|       35.76|31.174097556214498|\n",
      "|          0.9|     Sunday|         8.3|  7.66950512061783|\n",
      "|          2.7|     Sunday|        16.6|15.133976597996543|\n",
      "|          1.0|   Saturday|         7.3| 9.111650395437803|\n",
      "|          1.7|   Saturday|       14.75|12.508165587852046|\n",
      "|          0.6|     Friday|         5.8| 9.667477937462271|\n",
      "|          0.9|     Monday|        11.0|10.668972172418805|\n",
      "|          1.1|     Sunday|         9.3|11.048364111576014|\n",
      "|          0.2|     Sunday|         0.3| 7.720810167026536|\n",
      "|          2.8|     Sunday|        12.3|15.966585384151795|\n",
      "|          5.4|   Saturday|        24.3|25.982388970567552|\n",
      "|          1.5|     Friday|       12.95|13.423933951257354|\n",
      "|          1.3|   Saturday|        14.0| 12.11995461024021|\n",
      "|          0.8|     Sunday|       12.05|10.062646289454223|\n",
      "|          2.0|   Saturday|       14.75|14.090220167272687|\n",
      "|          0.8|     Monday|         8.8| 10.36923224933844|\n",
      "|          0.3|     Friday|         8.8|  8.95173931183552|\n",
      "+-------------+-----------+------------+------------------+\n",
      "only showing top 20 rows\n",
      "\n"
     ]
    },
    {
     "name": "stderr",
     "output_type": "stream",
     "text": [
      "                                                                                \r"
     ]
    }
   ],
   "source": [
    "predictions.select([\"trip_distance\", \"day_of_week\", \"total_amount\", \"prediction\"]).show()"
   ]
  },
  {
   "cell_type": "code",
   "execution_count": 26,
   "id": "02f653ec",
   "metadata": {},
   "outputs": [
    {
     "data": {
      "text/plain": [
       "3.877648659368804"
      ]
     },
     "execution_count": 26,
     "metadata": {},
     "output_type": "execute_result"
    }
   ],
   "source": [
    "model.summary.rootMeanSquaredError"
   ]
  },
  {
   "cell_type": "code",
   "execution_count": 27,
   "id": "02803459",
   "metadata": {},
   "outputs": [
    {
     "data": {
      "text/plain": [
       "0.8922402466214665"
      ]
     },
     "execution_count": 27,
     "metadata": {},
     "output_type": "execute_result"
    }
   ],
   "source": [
    "model.summary.r2"
   ]
  },
  {
   "cell_type": "code",
   "execution_count": 28,
   "id": "cb6b3fb3",
   "metadata": {},
   "outputs": [],
   "source": [
    "spark.stop()"
   ]
  },
  {
   "cell_type": "code",
   "execution_count": null,
   "id": "3100252e",
   "metadata": {},
   "outputs": [],
   "source": []
  }
 ],
 "metadata": {
  "kernelspec": {
   "display_name": "Python 3",
   "language": "python",
   "name": "python3"
  },
  "language_info": {
   "codemirror_mode": {
    "name": "ipython",
    "version": 3
   },
   "file_extension": ".py",
   "mimetype": "text/x-python",
   "name": "python",
   "nbconvert_exporter": "python",
   "pygments_lexer": "ipython3",
   "version": "3.8.12"
  }
 },
 "nbformat": 4,
 "nbformat_minor": 5
}
