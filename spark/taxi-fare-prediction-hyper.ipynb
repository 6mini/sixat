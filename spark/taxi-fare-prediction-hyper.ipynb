{
 "cells": [
  {
   "cell_type": "code",
   "execution_count": 1,
   "id": "6c89f375",
   "metadata": {},
   "outputs": [],
   "source": [
    "from pyspark.sql import SparkSession"
   ]
  },
  {
   "cell_type": "code",
   "execution_count": 2,
   "id": "14ef5549",
   "metadata": {},
   "outputs": [
    {
     "name": "stderr",
     "output_type": "stream",
     "text": [
      "21/12/20 04:43:23 WARN Utils: Your hostname, 6miniui-MacBook-Pro.local resolves to a loopback address: 127.0.0.1; using 192.168.200.112 instead (on interface en0)\n",
      "21/12/20 04:43:23 WARN Utils: Set SPARK_LOCAL_IP if you need to bind to another address\n",
      "Using Spark's default log4j profile: org/apache/spark/log4j-defaults.properties\n",
      "Setting default log level to \"WARN\".\n",
      "To adjust logging level use sc.setLogLevel(newLevel). For SparkR, use setLogLevel(newLevel).\n",
      "21/12/20 04:43:23 WARN NativeCodeLoader: Unable to load native-hadoop library for your platform... using builtin-java classes where applicable\n"
     ]
    }
   ],
   "source": [
    "MAX_MEMORY=\"5g\"\n",
    "spark = SparkSession.builder.appName(\"taxi-fare-prediciton\")\\\n",
    "                .config(\"spark.executor.memory\", MAX_MEMORY)\\\n",
    "                .config(\"spark.driver.memory\", MAX_MEMORY)\\\n",
    "                .getOrCreate()"
   ]
  },
  {
   "cell_type": "code",
   "execution_count": 3,
   "id": "1a308b57",
   "metadata": {},
   "outputs": [],
   "source": [
    "data_dir = \"/Users/6mini/spark/taxi\""
   ]
  },
  {
   "cell_type": "code",
   "execution_count": 4,
   "id": "193f3160",
   "metadata": {},
   "outputs": [
    {
     "name": "stderr",
     "output_type": "stream",
     "text": [
      "                                                                                \r"
     ]
    }
   ],
   "source": [
    "train_df = spark.read.parquet(f\"{data_dir}/train/\")\n",
    "test_df = spark.read.parquet(f\"{data_dir}/test/\")"
   ]
  },
  {
   "cell_type": "code",
   "execution_count": 5,
   "id": "f1f7037c",
   "metadata": {},
   "outputs": [],
   "source": [
    "# 하이퍼 파라미터에 쓸 데이터 프레임 생성\n",
    "toy_df = train_df.sample(False, 0.1, seed=6)\n"
   ]
  },
  {
   "cell_type": "code",
   "execution_count": 6,
   "id": "7b1499b7",
   "metadata": {},
   "outputs": [
    {
     "name": "stdout",
     "output_type": "stream",
     "text": [
      "root\n",
      " |-- passenger_count: integer (nullable = true)\n",
      " |-- pickup_location_id: integer (nullable = true)\n",
      " |-- dropoff_location_id: integer (nullable = true)\n",
      " |-- trip_distance: double (nullable = true)\n",
      " |-- pickup_time: integer (nullable = true)\n",
      " |-- day_of_week: string (nullable = true)\n",
      " |-- total_amount: double (nullable = true)\n",
      "\n"
     ]
    }
   ],
   "source": [
    "toy_df.printSchema()"
   ]
  },
  {
   "cell_type": "code",
   "execution_count": 7,
   "id": "b197ea72",
   "metadata": {},
   "outputs": [],
   "source": [
    "from pyspark.ml.feature import OneHotEncoder, StringIndexer\n",
    "\n",
    "cat_feats = [\n",
    "    \"pickup_location_id\",\n",
    "    \"dropoff_location_id\",\n",
    "    \"day_of_week\"\n",
    "]\n",
    "\n",
    "stages = []\n",
    "\n",
    "for c in cat_feats:\n",
    "    cat_indexer = StringIndexer(inputCol=c, outputCol= c + \"_idx\").setHandleInvalid(\"keep\")\n",
    "    onehot_encoder = OneHotEncoder(inputCols=[cat_indexer.getOutputCol()], outputCols=[c + \"_onehot\"])\n",
    "    stages += [cat_indexer, onehot_encoder]"
   ]
  },
  {
   "cell_type": "code",
   "execution_count": 8,
   "id": "b3d1a552",
   "metadata": {},
   "outputs": [],
   "source": [
    "from pyspark.ml.feature import VectorAssembler, StandardScaler\n",
    "\n",
    "num_feats = [\n",
    "    \"passenger_count\",\n",
    "    \"trip_distance\",\n",
    "    \"pickup_time\"\n",
    "]\n",
    "\n",
    "for n in num_feats:\n",
    "    num_assembler = VectorAssembler(inputCols=[n], outputCol= n + \"_vecotr\")\n",
    "    num_scaler = StandardScaler(inputCol=num_assembler.getOutputCol(), outputCol= n + \"_scaled\")\n",
    "    stages += [num_assembler, num_scaler]"
   ]
  },
  {
   "cell_type": "code",
   "execution_count": 9,
   "id": "6c9e35cd",
   "metadata": {},
   "outputs": [],
   "source": [
    "assembler_inputs = [c + \"_onehot\" for c in cat_feats] + [n + \"_scaled\" for n in num_feats]\n",
    "assembler = VectorAssembler(inputCols=assembler_inputs, outputCol=\"feature_vector\")\n",
    "stages += [assembler]"
   ]
  },
  {
   "cell_type": "markdown",
   "id": "f144a456",
   "metadata": {},
   "source": [
    "## Hyperparameter Tuning"
   ]
  },
  {
   "cell_type": "code",
   "execution_count": 10,
   "id": "4abb1bfc",
   "metadata": {},
   "outputs": [],
   "source": [
    "from pyspark.ml import Pipeline\n",
    "from pyspark.ml.regression import LinearRegression\n",
    "from pyspark.ml.tuning import CrossValidator, ParamGridBuilder\n",
    "from pyspark.ml.evaluation import RegressionEvaluator\n",
    "\n",
    "lr = LinearRegression(\n",
    "    maxIter=30,\n",
    "    solver=\"normal\",\n",
    "    labelCol='total_amount',\n",
    "    featuresCol='feature_vector'\n",
    ")\n",
    "\n",
    "# cv 파이프 라인 생성\n",
    "cv_stages = stages + [lr]"
   ]
  },
  {
   "cell_type": "code",
   "execution_count": 11,
   "id": "9e243aaf",
   "metadata": {},
   "outputs": [],
   "source": [
    "cv_pipeline = Pipeline(stages=cv_stages)"
   ]
  },
  {
   "cell_type": "code",
   "execution_count": 12,
   "id": "4401c160",
   "metadata": {},
   "outputs": [],
   "source": [
    "param_grid = ParamGridBuilder()\\\n",
    "                .addGrid(lr.elasticNetParam, [0.1, 0.2, 0.3, 0.4, 0.5])\\\n",
    "                .addGrid(lr.regParam, [0.01, 0.02, 0.03, 0.04, 0.05])\\\n",
    "                .build()"
   ]
  },
  {
   "cell_type": "code",
   "execution_count": 13,
   "id": "3575a425",
   "metadata": {},
   "outputs": [],
   "source": [
    "cross_val = CrossValidator(estimator=cv_pipeline,\n",
    "                           estimatorParamMaps=param_grid,\n",
    "                           evaluator=RegressionEvaluator(labelCol=\"total_amount\"),\n",
    "                           numFolds=5)"
   ]
  },
  {
   "cell_type": "code",
   "execution_count": 14,
   "id": "f68456da",
   "metadata": {},
   "outputs": [
    {
     "name": "stderr",
     "output_type": "stream",
     "text": [
      "21/12/20 04:43:42 WARN InstanceBuilder$NativeBLAS: Failed to load implementation from:dev.ludovic.netlib.blas.JNIBLAS\n",
      "21/12/20 04:43:42 WARN InstanceBuilder$NativeBLAS: Failed to load implementation from:dev.ludovic.netlib.blas.ForeignLinkerBLAS\n",
      "21/12/20 04:43:43 WARN BLAS: Failed to load implementation from: com.github.fommil.netlib.NativeSystemBLAS\n",
      "21/12/20 04:43:43 WARN BLAS: Failed to load implementation from: com.github.fommil.netlib.NativeRefBLAS\n",
      "                                                                                \r"
     ]
    }
   ],
   "source": [
    "cv_model = cross_val.fit(toy_df)"
   ]
  },
  {
   "cell_type": "code",
   "execution_count": 15,
   "id": "493a7a7e",
   "metadata": {},
   "outputs": [],
   "source": [
    "alpha = cv_model.bestModel.stages[-1]._java_obj.getElasticNetParam()\n",
    "reg_param = cv_model.bestModel.stages[-1]._java_obj.getRegParam()"
   ]
  },
  {
   "cell_type": "markdown",
   "id": "118d509c",
   "metadata": {},
   "source": [
    "## Training"
   ]
  },
  {
   "cell_type": "code",
   "execution_count": 16,
   "id": "39b44e01",
   "metadata": {},
   "outputs": [],
   "source": [
    "transform_stages = stages\n",
    "pipeline = Pipeline(stages=transform_stages)\n",
    "fitted_transformer = pipeline.fit(train_df)"
   ]
  },
  {
   "cell_type": "code",
   "execution_count": 17,
   "id": "5d965a6d",
   "metadata": {},
   "outputs": [],
   "source": [
    "vtrain_df = fitted_transformer.transform(train_df)"
   ]
  },
  {
   "cell_type": "code",
   "execution_count": 18,
   "id": "450a8e37",
   "metadata": {},
   "outputs": [],
   "source": [
    "\n",
    "lr = LinearRegression(\n",
    "    maxIter=50,\n",
    "    solver=\"normal\",\n",
    "    labelCol=\"total_amount\",\n",
    "    featuresCol=\"feature_vector\",\n",
    "    elasticNetParam=alpha,\n",
    "    regParam=reg_param,\n",
    ")"
   ]
  },
  {
   "cell_type": "code",
   "execution_count": 19,
   "id": "4265a9b3",
   "metadata": {},
   "outputs": [
    {
     "name": "stdout",
     "output_type": "stream",
     "text": [
      "root\n",
      " |-- passenger_count: integer (nullable = true)\n",
      " |-- pickup_location_id: integer (nullable = true)\n",
      " |-- dropoff_location_id: integer (nullable = true)\n",
      " |-- trip_distance: double (nullable = true)\n",
      " |-- pickup_time: integer (nullable = true)\n",
      " |-- day_of_week: string (nullable = true)\n",
      " |-- total_amount: double (nullable = true)\n",
      " |-- pickup_location_id_idx: double (nullable = false)\n",
      " |-- pickup_location_id_onehot: vector (nullable = true)\n",
      " |-- dropoff_location_id_idx: double (nullable = false)\n",
      " |-- dropoff_location_id_onehot: vector (nullable = true)\n",
      " |-- day_of_week_idx: double (nullable = false)\n",
      " |-- day_of_week_onehot: vector (nullable = true)\n",
      " |-- passenger_count_vecotr: vector (nullable = true)\n",
      " |-- passenger_count_scaled: vector (nullable = true)\n",
      " |-- trip_distance_vecotr: vector (nullable = true)\n",
      " |-- trip_distance_scaled: vector (nullable = true)\n",
      " |-- pickup_time_vecotr: vector (nullable = true)\n",
      " |-- pickup_time_scaled: vector (nullable = true)\n",
      " |-- feature_vector: vector (nullable = true)\n",
      "\n"
     ]
    }
   ],
   "source": [
    "vtrain_df.printSchema()"
   ]
  },
  {
   "cell_type": "code",
   "execution_count": 20,
   "id": "f2d00f60",
   "metadata": {},
   "outputs": [
    {
     "name": "stderr",
     "output_type": "stream",
     "text": [
      "                                                                                \r"
     ]
    }
   ],
   "source": [
    "model = lr.fit(vtrain_df)"
   ]
  },
  {
   "cell_type": "code",
   "execution_count": 21,
   "id": "9a95e8c3",
   "metadata": {},
   "outputs": [],
   "source": [
    "vtest_df = fitted_transformer.transform(test_df)"
   ]
  },
  {
   "cell_type": "code",
   "execution_count": 22,
   "id": "05b3df31",
   "metadata": {},
   "outputs": [],
   "source": [
    "predictions = model.transform(vtest_df)"
   ]
  },
  {
   "cell_type": "code",
   "execution_count": 23,
   "id": "61d0d5df",
   "metadata": {},
   "outputs": [
    {
     "data": {
      "text/plain": [
       "DataFrame[passenger_count: int, pickup_location_id: int, dropoff_location_id: int, trip_distance: double, pickup_time: int, day_of_week: string, total_amount: double, pickup_location_id_idx: double, pickup_location_id_onehot: vector, dropoff_location_id_idx: double, dropoff_location_id_onehot: vector, day_of_week_idx: double, day_of_week_onehot: vector, passenger_count_vecotr: vector, passenger_count_scaled: vector, trip_distance_vecotr: vector, trip_distance_scaled: vector, pickup_time_vecotr: vector, pickup_time_scaled: vector, feature_vector: vector, prediction: double]"
      ]
     },
     "execution_count": 23,
     "metadata": {},
     "output_type": "execute_result"
    }
   ],
   "source": [
    "predictions.cache()"
   ]
  },
  {
   "cell_type": "code",
   "execution_count": 24,
   "id": "2a7f4514",
   "metadata": {},
   "outputs": [
    {
     "name": "stdout",
     "output_type": "stream",
     "text": [
      "+-------------+-----------+------------+------------------+\n",
      "|trip_distance|day_of_week|total_amount|        prediction|\n",
      "+-------------+-----------+------------+------------------+\n",
      "|         0.01|     Sunday|       22.25| 12.40062399741981|\n",
      "|          0.1|     Sunday|         3.3|11.179916642407761|\n",
      "|          6.1|     Monday|        26.3|28.513128986649363|\n",
      "|          7.1|     Monday|       35.76|30.882927780540072|\n",
      "|          0.9|     Sunday|         8.3| 7.868949092930335|\n",
      "|          2.7|     Sunday|        16.6|15.094931340419489|\n",
      "|          1.0|   Saturday|         7.3| 9.297192995371958|\n",
      "|          1.7|   Saturday|       14.75|12.505205755067445|\n",
      "|          0.6|     Friday|         5.8| 9.807590972898764|\n",
      "|          0.9|     Monday|        11.0|10.651270340211198|\n",
      "|          1.1|     Sunday|         9.3|11.014278848833877|\n",
      "|          0.2|     Sunday|         0.3| 7.862427690725334|\n",
      "|          2.8|     Sunday|        12.3|16.034126485835703|\n",
      "|          5.4|   Saturday|        24.3|25.834845317536548|\n",
      "|          1.5|     Friday|       12.95|13.318822345381877|\n",
      "|          1.3|   Saturday|        14.0|12.070487123616296|\n",
      "|          0.8|     Sunday|       12.05|10.115757256158687|\n",
      "|          2.0|   Saturday|       14.75|14.111216356455753|\n",
      "|          0.8|     Monday|         8.8|10.439980432510467|\n",
      "|          0.3|     Friday|         8.8| 8.993055728266917|\n",
      "+-------------+-----------+------------+------------------+\n",
      "only showing top 20 rows\n",
      "\n"
     ]
    }
   ],
   "source": [
    "predictions.select([\"trip_distance\", \"day_of_week\", \"total_amount\", \"prediction\"]).show()"
   ]
  },
  {
   "cell_type": "code",
   "execution_count": 25,
   "id": "02f653ec",
   "metadata": {},
   "outputs": [
    {
     "data": {
      "text/plain": [
       "3.8848282133166245"
      ]
     },
     "execution_count": 25,
     "metadata": {},
     "output_type": "execute_result"
    }
   ],
   "source": [
    "model.summary.rootMeanSquaredError"
   ]
  },
  {
   "cell_type": "code",
   "execution_count": 26,
   "id": "02803459",
   "metadata": {},
   "outputs": [
    {
     "data": {
      "text/plain": [
       "0.8918408379788968"
      ]
     },
     "execution_count": 26,
     "metadata": {},
     "output_type": "execute_result"
    }
   ],
   "source": [
    "model.summary.r2"
   ]
  },
  {
   "cell_type": "code",
   "execution_count": 29,
   "id": "dbfba244",
   "metadata": {},
   "outputs": [],
   "source": [
    "model_dir = \"/Users/6mini/spark/taxi/model\"\n",
    "model.save(model_dir)"
   ]
  },
  {
   "cell_type": "code",
   "execution_count": 30,
   "id": "f15e53ee",
   "metadata": {},
   "outputs": [],
   "source": [
    "from pyspark.ml.regression import LinearRegressionModel"
   ]
  },
  {
   "cell_type": "code",
   "execution_count": 31,
   "id": "8407cc86",
   "metadata": {},
   "outputs": [],
   "source": [
    "lr_model = LinearRegressionModel().load(model_dir)"
   ]
  },
  {
   "cell_type": "code",
   "execution_count": 32,
   "id": "d5a1de06",
   "metadata": {},
   "outputs": [],
   "source": [
    "predictions = lr_model.transform(vtest_df)"
   ]
  },
  {
   "cell_type": "code",
   "execution_count": 33,
   "id": "84595076",
   "metadata": {},
   "outputs": [
    {
     "name": "stdout",
     "output_type": "stream",
     "text": [
      "+---------------+------------------+-------------------+-------------+-----------+-----------+------------+----------------------+-------------------------+-----------------------+--------------------------+---------------+------------------+----------------------+----------------------+--------------------+--------------------+------------------+--------------------+--------------------+------------------+\n",
      "|passenger_count|pickup_location_id|dropoff_location_id|trip_distance|pickup_time|day_of_week|total_amount|pickup_location_id_idx|pickup_location_id_onehot|dropoff_location_id_idx|dropoff_location_id_onehot|day_of_week_idx|day_of_week_onehot|passenger_count_vecotr|passenger_count_scaled|trip_distance_vecotr|trip_distance_scaled|pickup_time_vecotr|  pickup_time_scaled|      feature_vector|        prediction|\n",
      "+---------------+------------------+-------------------+-------------+-----------+-----------+------------+----------------------+-------------------------+-----------------------+--------------------------+---------------+------------------+----------------------+----------------------+--------------------+--------------------+------------------+--------------------+--------------------+------------------+\n",
      "|              0|                10|                 10|         0.01|          8|     Sunday|       22.25|                  86.0|         (253,[86],[1.0])|                   97.0|          (259,[97],[1.0])|            6.0|     (7,[6],[1.0])|                 [0.0]|                 [0.0]|              [0.01]|[0.00289700388219...|             [8.0]| [1.767444038036644]|(522,[86,350,518,...| 12.40062399741981|\n",
      "|              0|                10|                215|          0.1|         11|     Sunday|         3.3|                  86.0|         (253,[86],[1.0])|                  154.0|         (259,[154],[1.0])|            6.0|     (7,[6],[1.0])|                 [0.0]|                 [0.0]|               [0.1]|[0.02897003882196...|            [11.0]|[2.4302355523003856]|(522,[86,407,518,...|11.179916642407761|\n",
      "|              0|                13|                233|          6.1|         13|     Monday|        26.3|                  49.0|         (253,[49],[1.0])|                   24.0|          (259,[24],[1.0])|            5.0|     (7,[5],[1.0])|                 [0.0]|                 [0.0]|               [6.1]|[1.7671723681399851]|            [13.0]|[2.8720965618095464]|(522,[49,277,517,...|28.513128986649363|\n",
      "|              0|                41|                 68|          7.1|         17|     Monday|       35.76|                  39.0|         (253,[39],[1.0])|                   15.0|          (259,[15],[1.0])|            5.0|     (7,[5],[1.0])|                 [0.0]|                 [0.0]|               [7.1]|[2.0568727563596547]|            [17.0]|[3.7558185808278686]|(522,[39,268,517,...|30.882927780540072|\n",
      "|              0|                41|                 74|          0.9|         17|     Sunday|         8.3|                  39.0|         (253,[39],[1.0])|                   29.0|          (259,[29],[1.0])|            6.0|     (7,[6],[1.0])|                 [0.0]|                 [0.0]|               [0.9]|[0.26073034939770...|            [17.0]|[3.7558185808278686]|(522,[39,282,518,...| 7.868949092930335|\n",
      "|              0|                41|                143|          2.7|          8|     Sunday|        16.6|                  39.0|         (253,[39],[1.0])|                   20.0|          (259,[20],[1.0])|            6.0|     (7,[6],[1.0])|                 [0.0]|                 [0.0]|               [2.7]|[0.7821910481931083]|             [8.0]| [1.767444038036644]|(522,[39,273,518,...|15.094931340419489|\n",
      "|              0|                41|                151|          1.0|         16|   Saturday|         7.3|                  39.0|         (253,[39],[1.0])|                   28.0|          (259,[28],[1.0])|            3.0|     (7,[3],[1.0])|                 [0.0]|                 [0.0]|               [1.0]|[0.2897003882196697]|            [16.0]| [3.534888076073288]|(522,[39,281,515,...| 9.297192995371958|\n",
      "|              0|                41|                239|          1.7|         19|   Saturday|       14.75|                  39.0|         (253,[39],[1.0])|                    3.0|           (259,[3],[1.0])|            3.0|     (7,[3],[1.0])|                 [0.0]|                 [0.0]|               [1.7]|[0.4924906599734385]|            [19.0]|  [4.19767959033703]|(522,[39,256,515,...|12.505205755067445|\n",
      "|              0|                43|                 24|          0.6|         18|     Friday|         5.8|                  20.0|         (253,[20],[1.0])|                   46.0|          (259,[46],[1.0])|            0.0|     (7,[0],[1.0])|                 [0.0]|                 [0.0]|               [0.6]|[0.17382023293180...|            [18.0]| [3.976749085582449]|(522,[20,299,512,...| 9.807590972898764|\n",
      "|              0|                43|                142|          0.9|          8|     Monday|        11.0|                  20.0|         (253,[20],[1.0])|                    7.0|           (259,[7],[1.0])|            5.0|     (7,[5],[1.0])|                 [0.0]|                 [0.0]|               [0.9]|[0.26073034939770...|             [8.0]| [1.767444038036644]|(522,[20,260,517,...|10.651270340211198|\n",
      "|              0|                43|                142|          1.1|         12|     Sunday|         9.3|                  20.0|         (253,[20],[1.0])|                    7.0|           (259,[7],[1.0])|            6.0|     (7,[6],[1.0])|                 [0.0]|                 [0.0]|               [1.1]|[0.3186704270416367]|            [12.0]| [2.651166057054966]|(522,[20,260,518,...|11.014278848833877|\n",
      "|              0|                43|                151|          0.2|         21|     Sunday|         0.3|                  20.0|         (253,[20],[1.0])|                   28.0|          (259,[28],[1.0])|            6.0|     (7,[6],[1.0])|                 [0.0]|                 [0.0]|               [0.2]|[0.05794007764393...|            [21.0]| [4.639540599846191]|(522,[20,281,518,...| 7.862427690725334|\n",
      "|              0|                43|                166|          2.8|         12|     Sunday|        12.3|                  20.0|         (253,[20],[1.0])|                   37.0|          (259,[37],[1.0])|            6.0|     (7,[6],[1.0])|                 [0.0]|                 [0.0]|               [2.8]|[0.8111610870150752]|            [12.0]| [2.651166057054966]|(522,[20,290,518,...|16.034126485835703|\n",
      "|              0|                43|                231|          5.4|         13|   Saturday|        24.3|                  20.0|         (253,[20],[1.0])|                   34.0|          (259,[34],[1.0])|            3.0|     (7,[3],[1.0])|                 [0.0]|                 [0.0]|               [5.4]|[1.5643820963862165]|            [13.0]|[2.8720965618095464]|(522,[20,287,515,...|25.834845317536548|\n",
      "|              0|                43|                238|          1.5|         17|     Friday|       12.95|                  20.0|         (253,[20],[1.0])|                    4.0|           (259,[4],[1.0])|            0.0|     (7,[0],[1.0])|                 [0.0]|                 [0.0]|               [1.5]|[0.43455058232950...|            [17.0]|[3.7558185808278686]|(522,[20,257,512,...|13.318822345381877|\n",
      "|              0|                43|                262|          1.3|         13|   Saturday|        14.0|                  20.0|         (253,[20],[1.0])|                   17.0|          (259,[17],[1.0])|            3.0|     (7,[3],[1.0])|                 [0.0]|                 [0.0]|               [1.3]|[0.3766105046855706]|            [13.0]|[2.8720965618095464]|(522,[20,270,515,...|12.070487123616296|\n",
      "|              0|                43|                263|          0.8|         16|     Sunday|       12.05|                  20.0|         (253,[20],[1.0])|                    9.0|           (259,[9],[1.0])|            6.0|     (7,[6],[1.0])|                 [0.0]|                 [0.0]|               [0.8]|[0.23176031057573...|            [16.0]| [3.534888076073288]|(522,[20,262,518,...|10.115757256158687|\n",
      "|              0|                45|                249|          2.0|         11|   Saturday|       14.75|                  62.0|         (253,[62],[1.0])|                   27.0|          (259,[27],[1.0])|            3.0|     (7,[3],[1.0])|                 [0.0]|                 [0.0]|               [2.0]|[0.5794007764393394]|            [11.0]|[2.4302355523003856]|(522,[62,280,515,...|14.111216356455753|\n",
      "|              0|                48|                 43|          0.8|         16|     Monday|         8.8|                  12.0|         (253,[12],[1.0])|                   26.0|          (259,[26],[1.0])|            5.0|     (7,[5],[1.0])|                 [0.0]|                 [0.0]|               [0.8]|[0.23176031057573...|            [16.0]| [3.534888076073288]|(522,[12,279,517,...|10.439980432510467|\n",
      "|              0|                48|                 50|          0.3|         17|     Friday|         8.8|                  12.0|         (253,[12],[1.0])|                   36.0|          (259,[36],[1.0])|            0.0|     (7,[0],[1.0])|                 [0.0]|                 [0.0]|               [0.3]|[0.08691011646590...|            [17.0]|[3.7558185808278686]|(522,[12,289,512,...| 8.993055728266917|\n",
      "+---------------+------------------+-------------------+-------------+-----------+-----------+------------+----------------------+-------------------------+-----------------------+--------------------------+---------------+------------------+----------------------+----------------------+--------------------+--------------------+------------------+--------------------+--------------------+------------------+\n",
      "only showing top 20 rows\n",
      "\n"
     ]
    }
   ],
   "source": [
    "predictions.show()"
   ]
  },
  {
   "cell_type": "code",
   "execution_count": null,
   "id": "10d4ee95",
   "metadata": {},
   "outputs": [],
   "source": []
  }
 ],
 "metadata": {
  "kernelspec": {
   "display_name": "Python 3",
   "language": "python",
   "name": "python3"
  },
  "language_info": {
   "codemirror_mode": {
    "name": "ipython",
    "version": 3
   },
   "file_extension": ".py",
   "mimetype": "text/x-python",
   "name": "python",
   "nbconvert_exporter": "python",
   "pygments_lexer": "ipython3",
   "version": "3.8.12"
  }
 },
 "nbformat": 4,
 "nbformat_minor": 5
}
