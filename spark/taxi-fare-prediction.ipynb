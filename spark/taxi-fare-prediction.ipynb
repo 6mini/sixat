{
 "cells": [
  {
   "cell_type": "markdown",
   "id": "052fe026",
   "metadata": {},
   "source": [
    "# Linear regression"
   ]
  },
  {
   "cell_type": "code",
   "execution_count": 1,
   "id": "6c89f375",
   "metadata": {},
   "outputs": [],
   "source": [
    "# 스파크 세션 생성\n",
    "from pyspark.sql import SparkSession"
   ]
  },
  {
   "cell_type": "code",
   "execution_count": 2,
   "id": "14ef5549",
   "metadata": {},
   "outputs": [
    {
     "name": "stderr",
     "output_type": "stream",
     "text": [
      "21/12/20 04:31:10 WARN Utils: Your hostname, 6miniui-MacBook-Pro.local resolves to a loopback address: 127.0.0.1; using 192.168.200.112 instead (on interface en0)\n",
      "21/12/20 04:31:10 WARN Utils: Set SPARK_LOCAL_IP if you need to bind to another address\n",
      "Using Spark's default log4j profile: org/apache/spark/log4j-defaults.properties\n",
      "Setting default log level to \"WARN\".\n",
      "To adjust logging level use sc.setLogLevel(newLevel). For SparkR, use setLogLevel(newLevel).\n",
      "21/12/20 04:31:11 WARN NativeCodeLoader: Unable to load native-hadoop library for your platform... using builtin-java classes where applicable\n"
     ]
    }
   ],
   "source": [
    "# 인스턴스 생성(Max Memory 지정: Out of Memory 방지)\n",
    "MAX_MEMORY=\"5g\"\n",
    "spark = SparkSession.builder.appName(\"taxi-fare-prediciton\")\\\n",
    "                .config(\"spark.executor.memory\", MAX_MEMORY)\\\n",
    "                .config(\"spark.driver.memory\", MAX_MEMORY)\\\n",
    "                .getOrCreate()"
   ]
  },
  {
   "cell_type": "code",
   "execution_count": 3,
   "id": "2e0760d9",
   "metadata": {},
   "outputs": [
    {
     "name": "stderr",
     "output_type": "stream",
     "text": [
      "                                                                                \r"
     ]
    }
   ],
   "source": [
    "# 파일 불러오기\n",
    "trips_df = spark.read.csv(\"/Users/6mini/trip/*\", inferSchema=True, header=True)"
   ]
  },
  {
   "cell_type": "code",
   "execution_count": 4,
   "id": "2e1392e4",
   "metadata": {},
   "outputs": [
    {
     "name": "stdout",
     "output_type": "stream",
     "text": [
      "root\n",
      " |-- VendorID: integer (nullable = true)\n",
      " |-- tpep_pickup_datetime: string (nullable = true)\n",
      " |-- tpep_dropoff_datetime: string (nullable = true)\n",
      " |-- passenger_count: integer (nullable = true)\n",
      " |-- trip_distance: double (nullable = true)\n",
      " |-- RatecodeID: integer (nullable = true)\n",
      " |-- store_and_fwd_flag: string (nullable = true)\n",
      " |-- PULocationID: integer (nullable = true)\n",
      " |-- DOLocationID: integer (nullable = true)\n",
      " |-- payment_type: integer (nullable = true)\n",
      " |-- fare_amount: double (nullable = true)\n",
      " |-- extra: double (nullable = true)\n",
      " |-- mta_tax: double (nullable = true)\n",
      " |-- tip_amount: double (nullable = true)\n",
      " |-- tolls_amount: double (nullable = true)\n",
      " |-- improvement_surcharge: double (nullable = true)\n",
      " |-- total_amount: double (nullable = true)\n",
      " |-- congestion_surcharge: double (nullable = true)\n",
      "\n"
     ]
    }
   ],
   "source": [
    "# 스키마 확인\n",
    "trips_df.printSchema()\n",
    "# 만약 모든 컬럼이 string이 나온다면, 폴더 내 파일이 이상할 수 있으니 확인할 필요가 있다."
   ]
  },
  {
   "cell_type": "code",
   "execution_count": 5,
   "id": "005be675",
   "metadata": {},
   "outputs": [],
   "source": [
    "# SQL을 사용하기 위해 TempView에 담는다.\n",
    "trips_df.createOrReplaceTempView(\"trips\")"
   ]
  },
  {
   "cell_type": "code",
   "execution_count": 6,
   "id": "ba12a38e",
   "metadata": {},
   "outputs": [],
   "source": [
    "# 분석 때 했었던 이상치 제거를 적용한다.\n",
    "query = \"\"\"\n",
    "SELECT \n",
    "    trip_distance,\n",
    "    total_amount\n",
    "FROM\n",
    "    trips\n",
    "WHERE\n",
    "    total_amount < 5000\n",
    "    AND total_amount > 0\n",
    "    AND trip_distance > 0\n",
    "    AND trip_distance < 500\n",
    "    AND passenger_count < 5\n",
    "    AND TO_DATE(tpep_pickup_datetime) >= '2021-01-01'\n",
    "    AND TO_DATE(tpep_pickup_datetime) < '2021-08-01'\n",
    "\"\"\""
   ]
  },
  {
   "cell_type": "code",
   "execution_count": 7,
   "id": "479650c2",
   "metadata": {},
   "outputs": [],
   "source": [
    "# 쿼리를 적용시킨 데이터를 만들어 TempView에 담는다.\n",
    "data_df = spark.sql(query)\n",
    "data_df.createOrReplaceTempView(\"data\")"
   ]
  },
  {
   "cell_type": "code",
   "execution_count": 8,
   "id": "97e80528",
   "metadata": {},
   "outputs": [
    {
     "name": "stdout",
     "output_type": "stream",
     "text": [
      "+-------------+------------+\n",
      "|trip_distance|total_amount|\n",
      "+-------------+------------+\n",
      "|          2.1|        11.8|\n",
      "|          0.2|         4.3|\n",
      "|         14.7|       51.95|\n",
      "|         10.6|       36.35|\n",
      "|         4.94|       24.36|\n",
      "|          1.6|       14.15|\n",
      "|          4.1|        17.3|\n",
      "|          5.7|        21.8|\n",
      "|          9.1|        28.8|\n",
      "|          2.7|       18.95|\n",
      "|         6.11|        24.3|\n",
      "|         1.21|       10.79|\n",
      "|          7.4|       33.92|\n",
      "|         1.01|        10.3|\n",
      "|         0.73|       12.09|\n",
      "|         1.17|       12.36|\n",
      "|         0.78|        9.96|\n",
      "|         1.66|        12.3|\n",
      "|         0.93|         9.3|\n",
      "|         1.16|       11.84|\n",
      "+-------------+------------+\n",
      "only showing top 20 rows\n",
      "\n"
     ]
    }
   ],
   "source": [
    "data_df.show()"
   ]
  },
  {
   "cell_type": "code",
   "execution_count": 9,
   "id": "c54120dc",
   "metadata": {},
   "outputs": [
    {
     "name": "stderr",
     "output_type": "stream",
     "text": [
      "[Stage 3:====>                                                    (1 + 11) / 12]\r"
     ]
    },
    {
     "name": "stdout",
     "output_type": "stream",
     "text": [
      "+-------+------------------+-----------------+\n",
      "|summary|     trip_distance|     total_amount|\n",
      "+-------+------------------+-----------------+\n",
      "|  count|           1190465|          1190465|\n",
      "|   mean|2.6467179043483084|16.47590517992286|\n",
      "| stddev| 3.433414482182404|11.71610760812923|\n",
      "|    min|              0.01|             0.01|\n",
      "|    max|             427.7|           2292.4|\n",
      "+-------+------------------+-----------------+\n",
      "\n"
     ]
    },
    {
     "name": "stderr",
     "output_type": "stream",
     "text": [
      "                                                                                \r"
     ]
    }
   ],
   "source": [
    "# 통계 확인\n",
    "data_df.describe().show()\n",
    "# 600만원...?"
   ]
  },
  {
   "cell_type": "code",
   "execution_count": 10,
   "id": "35dcbacb",
   "metadata": {},
   "outputs": [],
   "source": [
    "# 트레인 테스트 스플릿\n",
    "train_df, test_df = data_df.randomSplit([0.8, 0.2], seed=6)"
   ]
  },
  {
   "cell_type": "code",
   "execution_count": 11,
   "id": "b9be6e2b",
   "metadata": {},
   "outputs": [
    {
     "name": "stderr",
     "output_type": "stream",
     "text": [
      "                                                                                \r"
     ]
    },
    {
     "name": "stdout",
     "output_type": "stream",
     "text": [
      "952078\n"
     ]
    },
    {
     "name": "stderr",
     "output_type": "stream",
     "text": [
      "[Stage 9:====>                                                    (1 + 11) / 12]\r"
     ]
    },
    {
     "name": "stdout",
     "output_type": "stream",
     "text": [
      "238387\n"
     ]
    },
    {
     "name": "stderr",
     "output_type": "stream",
     "text": [
      "                                                                                \r"
     ]
    }
   ],
   "source": [
    "print(train_df.count())\n",
    "print(test_df.count())"
   ]
  },
  {
   "cell_type": "code",
   "execution_count": 12,
   "id": "19f9e48c",
   "metadata": {},
   "outputs": [],
   "source": [
    "# 벡터 어셈블러로 트레인이 가능한 상태로 변환한다.\n",
    "from pyspark.ml.feature import VectorAssembler"
   ]
  },
  {
   "cell_type": "code",
   "execution_count": 13,
   "id": "520a8620",
   "metadata": {},
   "outputs": [],
   "source": [
    "vassembler = VectorAssembler(inputCols=[\"trip_distance\"], outputCol=\"features\")"
   ]
  },
  {
   "cell_type": "code",
   "execution_count": 14,
   "id": "59e84ad1",
   "metadata": {},
   "outputs": [],
   "source": [
    "vtrain_df = vassembler.transform(train_df)"
   ]
  },
  {
   "cell_type": "code",
   "execution_count": 15,
   "id": "33a9654f",
   "metadata": {},
   "outputs": [
    {
     "name": "stdout",
     "output_type": "stream",
     "text": [
      "+-------------+------------+--------+\n",
      "|trip_distance|total_amount|features|\n",
      "+-------------+------------+--------+\n",
      "|         0.01|         3.3|  [0.01]|\n",
      "|         0.01|         3.3|  [0.01]|\n",
      "|         0.01|         3.3|  [0.01]|\n",
      "|         0.01|         3.3|  [0.01]|\n",
      "|         0.01|         3.3|  [0.01]|\n",
      "|         0.01|         3.3|  [0.01]|\n",
      "|         0.01|         3.3|  [0.01]|\n",
      "|         0.01|         3.8|  [0.01]|\n",
      "|         0.01|         3.8|  [0.01]|\n",
      "|         0.01|         3.8|  [0.01]|\n",
      "|         0.01|         3.8|  [0.01]|\n",
      "|         0.01|         4.8|  [0.01]|\n",
      "|         0.01|         5.8|  [0.01]|\n",
      "|         0.01|         5.8|  [0.01]|\n",
      "|         0.01|         5.8|  [0.01]|\n",
      "|         0.01|         5.8|  [0.01]|\n",
      "|         0.01|         5.8|  [0.01]|\n",
      "|         0.01|         5.8|  [0.01]|\n",
      "|         0.01|         5.8|  [0.01]|\n",
      "|         0.01|         5.8|  [0.01]|\n",
      "+-------------+------------+--------+\n",
      "only showing top 20 rows\n",
      "\n"
     ]
    }
   ],
   "source": [
    "vtrain_df.show()"
   ]
  },
  {
   "cell_type": "code",
   "execution_count": 16,
   "id": "bba4e6d5",
   "metadata": {},
   "outputs": [],
   "source": [
    "# 리그레션 모델 생성\n",
    "from pyspark.ml.regression import LinearRegression"
   ]
  },
  {
   "cell_type": "code",
   "execution_count": 25,
   "id": "87db9c13",
   "metadata": {},
   "outputs": [],
   "source": [
    "from pyspark.ml.regression import GBTRegressor\n",
    "\n",
    "# 간단한 베이스 라인 코드\n",
    "lr = LinearRegression(\n",
    "    maxIter=50,\n",
    "    labelCol=\"total_amount\",\n",
    "    featuresCol=\"features\"\n",
    ")"
   ]
  },
  {
   "cell_type": "code",
   "execution_count": 26,
   "id": "15504cb1",
   "metadata": {},
   "outputs": [
    {
     "name": "stderr",
     "output_type": "stream",
     "text": [
      "21/12/20 04:39:28 WARN Instrumentation: [aa658890] regParam is zero, which might cause numerical instability and overfitting.\n",
      "21/12/20 04:39:29 WARN InstanceBuilder$NativeLAPACK: Failed to load implementation from:dev.ludovic.netlib.lapack.JNILAPACK\n",
      "                                                                                \r"
     ]
    }
   ],
   "source": [
    "model = lr.fit(vtrain_df)"
   ]
  },
  {
   "cell_type": "code",
   "execution_count": 27,
   "id": "bdbb608c",
   "metadata": {},
   "outputs": [],
   "source": [
    "vtest_df = vassembler.transform(test_df)"
   ]
  },
  {
   "cell_type": "code",
   "execution_count": 28,
   "id": "7a26b563",
   "metadata": {},
   "outputs": [],
   "source": [
    "# 예측\n",
    "prediction = model.transform(vtest_df)"
   ]
  },
  {
   "cell_type": "code",
   "execution_count": 29,
   "id": "74a81829",
   "metadata": {},
   "outputs": [
    {
     "name": "stdout",
     "output_type": "stream",
     "text": [
      "+-------------+------------+--------+-----------------+\n",
      "|trip_distance|total_amount|features|       prediction|\n",
      "+-------------+------------+--------+-----------------+\n",
      "|         0.01|         3.3|  [0.01]|8.127374610240356|\n",
      "|         0.01|         3.3|  [0.01]|8.127374610240356|\n",
      "|         0.01|         3.3|  [0.01]|8.127374610240356|\n",
      "|         0.01|         5.8|  [0.01]|8.127374610240356|\n",
      "|         0.01|         5.8|  [0.01]|8.127374610240356|\n",
      "|         0.01|         5.8|  [0.01]|8.127374610240356|\n",
      "|         0.01|         6.3|  [0.01]|8.127374610240356|\n",
      "|         0.01|         6.8|  [0.01]|8.127374610240356|\n",
      "|         0.01|        30.3|  [0.01]|8.127374610240356|\n",
      "|         0.01|        91.8|  [0.01]|8.127374610240356|\n",
      "|         0.02|         3.3|  [0.02]|  8.1590346468269|\n",
      "|         0.02|         3.3|  [0.02]|  8.1590346468269|\n",
      "|         0.02|         3.3|  [0.02]|  8.1590346468269|\n",
      "|         0.02|        3.96|  [0.02]|  8.1590346468269|\n",
      "|         0.02|         5.8|  [0.02]|  8.1590346468269|\n",
      "|         0.02|         6.3|  [0.02]|  8.1590346468269|\n",
      "|         0.02|         6.3|  [0.02]|  8.1590346468269|\n",
      "|         0.02|        12.3|  [0.02]|  8.1590346468269|\n",
      "|         0.02|        55.3|  [0.02]|  8.1590346468269|\n",
      "|         0.03|         3.3|  [0.03]|8.190694683413446|\n",
      "+-------------+------------+--------+-----------------+\n",
      "only showing top 20 rows\n",
      "\n"
     ]
    }
   ],
   "source": [
    "prediction.show()"
   ]
  },
  {
   "cell_type": "code",
   "execution_count": 24,
   "id": "c8877f51",
   "metadata": {},
   "outputs": [
    {
     "name": "stderr",
     "output_type": "stream",
     "text": [
      "[Stage 518:====>                                                  (1 + 11) / 12]\r"
     ]
    },
    {
     "name": "stdout",
     "output_type": "stream",
     "text": [
      "Root Mean Squared Error (RMSE) on test data = 7.67687\n"
     ]
    },
    {
     "name": "stderr",
     "output_type": "stream",
     "text": [
      "                                                                                \r"
     ]
    }
   ],
   "source": [
    "from pyspark.ml.evaluation import RegressionEvaluator\n",
    "\n",
    "evaluator = RegressionEvaluator(\n",
    "    labelCol=\"total_amount\", predictionCol=\"prediction\", metricName=\"rmse\")\n",
    "rmse = evaluator.evaluate(prediction)\n",
    "print(\"Root Mean Squared Error (RMSE) on test data = %g\" % rmse)"
   ]
  },
  {
   "cell_type": "code",
   "execution_count": 30,
   "id": "14e0be60",
   "metadata": {},
   "outputs": [
    {
     "data": {
      "text/plain": [
       "3.9391521978481396"
      ]
     },
     "execution_count": 30,
     "metadata": {},
     "output_type": "execute_result"
    }
   ],
   "source": [
    "# 평가\n",
    "model.summary.rootMeanSquaredError"
   ]
  },
  {
   "cell_type": "code",
   "execution_count": 31,
   "id": "0988cd09",
   "metadata": {},
   "outputs": [
    {
     "data": {
      "text/plain": [
       "0.8809194877142736"
      ]
     },
     "execution_count": 31,
     "metadata": {},
     "output_type": "execute_result"
    }
   ],
   "source": [
    "model.summary.r2"
   ]
  },
  {
   "cell_type": "code",
   "execution_count": 32,
   "id": "ad5e86ab",
   "metadata": {},
   "outputs": [],
   "source": [
    "# 실서비스에서 사용하기 위한 테스크\n",
    "from pyspark.sql.types import DoubleType\n",
    "distance_list = [1.1, 5.5, 10.5, 30.0]\n",
    "distance_df = spark.createDataFrame(distance_list, DoubleType()).toDF(\"trip_distance\")"
   ]
  },
  {
   "cell_type": "code",
   "execution_count": 33,
   "id": "ac91a7a3",
   "metadata": {},
   "outputs": [
    {
     "name": "stdout",
     "output_type": "stream",
     "text": [
      "+-------------+\n",
      "|trip_distance|\n",
      "+-------------+\n",
      "|          1.1|\n",
      "|          5.5|\n",
      "|         10.5|\n",
      "|         30.0|\n",
      "+-------------+\n",
      "\n"
     ]
    },
    {
     "name": "stderr",
     "output_type": "stream",
     "text": [
      "                                                                                \r"
     ]
    }
   ],
   "source": [
    "distance_df.show()"
   ]
  },
  {
   "cell_type": "code",
   "execution_count": 34,
   "id": "1b6742a2",
   "metadata": {},
   "outputs": [],
   "source": [
    "vdistance_df = vassembler.transform(distance_df)"
   ]
  },
  {
   "cell_type": "code",
   "execution_count": 35,
   "id": "1464f383",
   "metadata": {},
   "outputs": [
    {
     "name": "stdout",
     "output_type": "stream",
     "text": [
      "+-------------+--------+\n",
      "|trip_distance|features|\n",
      "+-------------+--------+\n",
      "|          1.1|   [1.1]|\n",
      "|          5.5|   [5.5]|\n",
      "|         10.5|  [10.5]|\n",
      "|         30.0|  [30.0]|\n",
      "+-------------+--------+\n",
      "\n"
     ]
    }
   ],
   "source": [
    "vdistance_df.show()"
   ]
  },
  {
   "cell_type": "code",
   "execution_count": 36,
   "id": "24d256c3",
   "metadata": {},
   "outputs": [
    {
     "name": "stdout",
     "output_type": "stream",
     "text": [
      "+-------------+--------+------------------+\n",
      "|trip_distance|features|        prediction|\n",
      "+-------------+--------+------------------+\n",
      "|          1.1|   [1.1]|11.578318598173754|\n",
      "|          5.5|   [5.5]|25.508734696253526|\n",
      "|         10.5|  [10.5]|   41.338752989526|\n",
      "|         30.0|  [30.0]|103.07582433328864|\n",
      "+-------------+--------+------------------+\n",
      "\n"
     ]
    }
   ],
   "source": [
    "model.transform(vdistance_df).show()"
   ]
  },
  {
   "cell_type": "code",
   "execution_count": 37,
   "id": "ed4d8943",
   "metadata": {},
   "outputs": [],
   "source": [
    "spark.stop()"
   ]
  },
  {
   "cell_type": "code",
   "execution_count": null,
   "id": "d5cfa5c5",
   "metadata": {},
   "outputs": [],
   "source": []
  }
 ],
 "metadata": {
  "kernelspec": {
   "display_name": "Python 3",
   "language": "python",
   "name": "python3"
  },
  "language_info": {
   "codemirror_mode": {
    "name": "ipython",
    "version": 3
   },
   "file_extension": ".py",
   "mimetype": "text/x-python",
   "name": "python",
   "nbconvert_exporter": "python",
   "pygments_lexer": "ipython3",
   "version": "3.8.12"
  }
 },
 "nbformat": 4,
 "nbformat_minor": 5
}
